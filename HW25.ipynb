{
 "cells": [
  {
   "cell_type": "code",
   "execution_count": 2,
   "id": "02400b97-0011-48c9-a30e-8d671399176c",
   "metadata": {},
   "outputs": [],
   "source": [
    "import pandas as pd"
   ]
  },
  {
   "cell_type": "code",
   "execution_count": 8,
   "id": "f5bc670a-94d1-46ae-b3a9-b00518e12315",
   "metadata": {},
   "outputs": [
    {
     "name": "stdout",
     "output_type": "stream",
     "text": [
      "0                          Planet Coaster 2\n",
      "1                Mario & Luigi: Brothership\n",
      "2                               Slitterhead\n",
      "3               The Rise of the Golden Idol\n",
      "4               Dragon Quest 3 HD-2D Remake\n",
      "5           Microsoft Flight Simulator 2024\n",
      "6             Stalker 2: Heart of Chornobyl\n",
      "7                   Fantasian Neo Dimension\n",
      "8                             Marvel Rivals\n",
      "9        Indiana Jones and the Great Circle\n",
      "10            Blood Line: A Rebel Moon Game\n",
      "11    The Legend of Zelda: Echoes of Wisdom\n",
      "dtype: object\n"
     ]
    }
   ],
   "source": [
    "pd_games = pd.Series([ \"Planet Coaster 2\", \"Mario & Luigi: Brothership\", \"Slitterhead\", \"The Rise of the Golden Idol\", \"Dragon Quest 3 HD-2D Remake\", \n",
    "                      \"Microsoft Flight Simulator 2024\", \"Stalker 2: Heart of Chornobyl\", \"Fantasian Neo Dimension\",\n",
    "                      \"Marvel Rivals\", \"Indiana Jones and the Great Circle\", \"Blood Line: A Rebel Moon Game\",\"The Legend of Zelda: Echoes of Wisdom\" ])\n",
    "print(pd_games)"
   ]
  },
  {
   "cell_type": "code",
   "execution_count": 46,
   "id": "9d6fbc4e-b90e-4118-9dd3-41fed3e801c2",
   "metadata": {},
   "outputs": [
    {
     "name": "stdout",
     "output_type": "stream",
     "text": [
      "Slitterhead\n",
      "Planet Coaster 2                         224.96\n",
      "Mario & Luigi: Brothership               187.46\n",
      "Slitterhead                              149.96\n",
      "The Rise of the Golden Idol              131.21\n",
      "Dragon Quest 3 HD-2D Remake              187.46\n",
      "Microsoft Flight Simulator 2024          262.46\n",
      "Stalker 2: Heart of Chornobyl            224.96\n",
      "Fantasian Neo Dimension                  168.71\n",
      "Marvel Rivals                            149.96\n",
      "Indiana Jones and the Great Circle       206.21\n",
      "Blood Line: A Rebel Moon Game              0.00\n",
      "The Legend of Zelda: Echoes of Wisdom    262.46\n",
      "dtype: float64\n",
      "Marvel_Rivals price: 149.96\n",
      "keys are: Index(['Planet Coaster 2', 'Mario & Luigi: Brothership', 'Slitterhead',\n",
      "       'The Rise of the Golden Idol', 'Dragon Quest 3 HD-2D Remake',\n",
      "       'Microsoft Flight Simulator 2024', 'Stalker 2: Heart of Chornobyl',\n",
      "       'Fantasian Neo Dimension', 'Marvel Rivals',\n",
      "       'Indiana Jones and the Great Circle', 'Blood Line: A Rebel Moon Game',\n",
      "       'The Legend of Zelda: Echoes of Wisdom'],\n",
      "      dtype='object')\n",
      "type of data: float64\n",
      "new seires: Planet Coaster 2               224.96\n",
      "slitterhead                    149.96\n",
      "The Rise of the Golden Idol    131.21\n",
      "dtype: float64\n",
      "after delete: 0    224.96\n",
      "1    149.96\n",
      "2    131.21\n",
      "dtype: float64\n"
     ]
    }
   ],
   "source": [
    "print(pd_games[2])\n",
    "games = [ \"Planet Coaster 2\", \"Mario & Luigi: Brothership\", \"Slitterhead\", \"The Rise of the Golden Idol\",\n",
    "        \"Dragon Quest 3 HD-2D Remake\", \"Microsoft Flight Simulator 2024\", \"Stalker 2: Heart of Chornobyl\", \"Fantasian Neo Dimension\",\n",
    "        \"Marvel Rivals\", \"Indiana Jones and the Great Circle\", \"Blood Line: A Rebel Moon Game\",\n",
    "        \"The Legend of Zelda: Echoes of Wisdom\" ]\n",
    "prices = [224.96, 187.46, 149.96, 131.21, 187.46, 262.46, 224.96,\n",
    "                168.71, 149.96, 206.21, 0.0, 262.46]\n",
    "pd_prices = pd.Series(data=prices, index=games)\n",
    "print(pd_prices)\n",
    "print(\"Marvel_Rivals price:\", pd_prices[\"Marvel Rivals\"])\n",
    "print(\"keys are:\", pd_prices.keys())\n",
    "print(\"type of data:\", pd_prices.dtype)\n",
    "dict_series = {\"Planet Coaster 2\": 224.96, \"slitterhead\":149.96, \"The Rise of the Golden Idol\":131.21}\n",
    "pd_new_series = pd.Series(dict_series)\n",
    "print(\"new seires:\", pd_new_series)\n",
    "pd_new_series.reset_index(drop=True, inplace=True)\n",
    "print(\"after delete:\", pd_new_series)"
   ]
  },
  {
   "cell_type": "code",
   "execution_count": 54,
   "id": "32d72f37-5118-4d18-af28-f6a886b23a84",
   "metadata": {},
   "outputs": [
    {
     "name": "stdout",
     "output_type": "stream",
     "text": [
      "new prices: Mario & Luigi: Brothership               187.46\n",
      "Marvel Rivals                             69.96\n",
      "Planet Coaster 2                         174.96\n",
      "Slitterhead                              149.96\n",
      "The Legend of Zelda: Echoes of Wisdom    247.46\n",
      "dtype: float64\n",
      "+ versus add: Mario & Luigi: Brothership                  NaN\n",
      "Marvel Rivals                             69.96\n",
      "Planet Coaster 2                         174.96\n",
      "Slitterhead                                 NaN\n",
      "The Legend of Zelda: Echoes of Wisdom    247.46\n",
      "dtype: float64\n"
     ]
    }
   ],
   "source": [
    "dict_games = { \"Planet Coaster 2\": 224.96, \"Mario & Luigi: Brothership\": 187.46,\n",
    "\"Slitterhead\": 149.96, \"Marvel Rivals\": 149.96,\n",
    "\"The Legend of Zelda: Echoes of Wisdom\": 262.46 }\n",
    "dict_discount = {\"Planet Coaster 2\": -50, \"Marvel Rivals\": -80, \"The Legend of Zelda: Echoes of Wisdom\": -15}\n",
    "first_pd = pd.Series(dict_games)\n",
    "second_pd = pd.Series(dict_discount) \n",
    "new_prices = first_pd.add(second_pd, fill_value=0)\n",
    "print(\"new prices:\", new_prices)\n",
    "print(\"+ versus add:\", first_pd + second_pd)\n",
    "#+ adds the values only if there are values in all the series, if not it gives the value \"NaN\", with add we can add a number we want instead of \n",
    "#a missing value with \"fill_value\""
   ]
  },
  {
   "cell_type": "code",
   "execution_count": null,
   "id": "de7f3b43-7309-45ef-8161-d3efaed91591",
   "metadata": {},
   "outputs": [],
   "source": []
  },
  {
   "cell_type": "markdown",
   "id": "7016ebf6-4df0-4313-8a51-16146a07ee1f",
   "metadata": {},
   "source": [
    "# "
   ]
  }
 ],
 "metadata": {
  "kernelspec": {
   "display_name": "Python 3 (ipykernel)",
   "language": "python",
   "name": "python3"
  },
  "language_info": {
   "codemirror_mode": {
    "name": "ipython",
    "version": 3
   },
   "file_extension": ".py",
   "mimetype": "text/x-python",
   "name": "python",
   "nbconvert_exporter": "python",
   "pygments_lexer": "ipython3",
   "version": "3.12.7"
  }
 },
 "nbformat": 4,
 "nbformat_minor": 5
}
